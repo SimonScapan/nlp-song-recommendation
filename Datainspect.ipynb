{
 "cells": [
  {
   "cell_type": "code",
   "execution_count": 2,
   "id": "006945b1",
   "metadata": {},
   "outputs": [],
   "source": [
    "import pandas as pd\n",
    "\n",
    "data = pd.read_pickle(\"./master_music_data.pkl\")"
   ]
  },
  {
   "cell_type": "code",
   "execution_count": 10,
   "id": "7b658787",
   "metadata": {},
   "outputs": [],
   "source": [
    "data.to_json(orient=\"records\",path_or_buf=\"export.json\")"
   ]
  },
  {
   "cell_type": "code",
   "execution_count": 13,
   "id": "a2517639",
   "metadata": {},
   "outputs": [
    {
     "data": {
      "text/html": [
       "<div>\n",
       "<style scoped>\n",
       "    .dataframe tbody tr th:only-of-type {\n",
       "        vertical-align: middle;\n",
       "    }\n",
       "\n",
       "    .dataframe tbody tr th {\n",
       "        vertical-align: top;\n",
       "    }\n",
       "\n",
       "    .dataframe thead th {\n",
       "        text-align: right;\n",
       "    }\n",
       "</style>\n",
       "<table border=\"1\" class=\"dataframe\">\n",
       "  <thead>\n",
       "    <tr style=\"text-align: right;\">\n",
       "      <th></th>\n",
       "      <th>Artist</th>\n",
       "      <th>Song_title</th>\n",
       "      <th>Song_text</th>\n",
       "      <th>Song_genre</th>\n",
       "      <th>Happy</th>\n",
       "      <th>Angry</th>\n",
       "      <th>Surprise</th>\n",
       "      <th>Sad</th>\n",
       "      <th>Fear</th>\n",
       "    </tr>\n",
       "  </thead>\n",
       "  <tbody>\n",
       "    <tr>\n",
       "      <th>2902</th>\n",
       "      <td>Oasis</td>\n",
       "      <td>Don't Look Back in Anger - Remastered</td>\n",
       "      <td>[Verse 1]\\nSlip inside the eye of your mind\\nD...</td>\n",
       "      <td>[Rock]</td>\n",
       "      <td>0.0</td>\n",
       "      <td>0.16</td>\n",
       "      <td>0.43</td>\n",
       "      <td>0.22</td>\n",
       "      <td>0.19</td>\n",
       "    </tr>\n",
       "  </tbody>\n",
       "</table>\n",
       "</div>"
      ],
      "text/plain": [
       "     Artist                             Song_title  \\\n",
       "2902  Oasis  Don't Look Back in Anger - Remastered   \n",
       "\n",
       "                                              Song_text Song_genre  Happy  \\\n",
       "2902  [Verse 1]\\nSlip inside the eye of your mind\\nD...     [Rock]    0.0   \n",
       "\n",
       "      Angry  Surprise   Sad  Fear  \n",
       "2902   0.16      0.43  0.22  0.19  "
      ]
     },
     "execution_count": 13,
     "metadata": {},
     "output_type": "execute_result"
    }
   ],
   "source": [
    "data[data[\"Song_title\"]==\"Don't Look Back in Anger - Remastered\"]"
   ]
  },
  {
   "cell_type": "code",
   "execution_count": null,
   "id": "e841e2e0",
   "metadata": {},
   "outputs": [],
   "source": [
    "data[data[\"Song_title\"]==\"Don't Look Back in Anger - Remastered\"]"
   ]
  }
 ],
 "metadata": {
  "kernelspec": {
   "display_name": "Python 3",
   "language": "python",
   "name": "python3"
  },
  "language_info": {
   "codemirror_mode": {
    "name": "ipython",
    "version": 3
   },
   "file_extension": ".py",
   "mimetype": "text/x-python",
   "name": "python",
   "nbconvert_exporter": "python",
   "pygments_lexer": "ipython3",
   "version": "3.8.8"
  }
 },
 "nbformat": 4,
 "nbformat_minor": 5
}
