{
 "cells": [
  {
   "cell_type": "code",
   "execution_count": 1,
   "id": "grand-intro",
   "metadata": {},
   "outputs": [],
   "source": [
    "from bs4 import BeautifulSoup\n",
    "import requests\n",
    "#import time"
   ]
  },
  {
   "cell_type": "code",
   "execution_count": 26,
   "id": "incorrect-badge",
   "metadata": {},
   "outputs": [],
   "source": [
    "artist = \"Ed Sheeren\"\n",
    "title = \"THINKING OUT LOUD\""
   ]
  },
  {
   "cell_type": "code",
   "execution_count": 27,
   "id": "stunning-namibia",
   "metadata": {},
   "outputs": [],
   "source": [
    "def GetGenreByTitle(artist,title):\n",
    "\n",
    "    url = \"https://www.google.com/search?q=\"\n",
    "    headers = {'User-agent':\"Mozilla/5.0 (Windows NT 10.0; Win64; x64) AppleWebKit/537.36 (KHTML, like Gecko) Chrome/64.0.3282.140 Safari/537.36 Edge/17.17134\"}\n",
    "    \n",
    "    artist = artist.lower()\n",
    "    artist = artist.replace(\" \",\"+\")\n",
    "    title = title.lower()\n",
    "    title = title.replace(\" \",\"+\")\n",
    "    \n",
    "    search = url+artist+\"+\"+title+\"+genre\"\n",
    "    page = requests.get(search,headers=headers)\n",
    "    soup = BeautifulSoup(page.content, 'html.parser')\n",
    "    \n",
    "    #class=\"Z0LcW XcVN5d\"\n",
    "    #mydivs = soup.find_all(\"div\", {\"class\":\"EDblX DAVP1\"})\n",
    "    mydivs = soup.find_all(\"div\", {\"class\":\"Z0LcW XcVN5d\"})\n",
    "\n",
    "    if len(mydivs) == 1:\n",
    "        genre = [str(mydivs)[27:-7]]\n",
    "    else:\n",
    "        mydivs = soup.find_all(\"div\", {\"class\":\"rlc__slider-page\"})\n",
    "        genre = []\n",
    "        for element in range(len(mydivs)):\n",
    "            genre_title = mydivs[element].find(\"div\", {\"class\":\"title\"})\n",
    "            genre_title = str(genre_title)[19:-6]\n",
    "            genre.append(genre_title)\n",
    "    return genre"
   ]
  },
  {
   "cell_type": "code",
   "execution_count": 28,
   "id": "filled-recovery",
   "metadata": {},
   "outputs": [
    {
     "output_type": "execute_result",
     "data": {
      "text/plain": [
       "['Blue-Eyed Soul', 'Pop']"
      ]
     },
     "metadata": {},
     "execution_count": 28
    }
   ],
   "source": [
    "GetGenreByTitle(artist,title)"
   ]
  }
 ],
 "metadata": {
  "kernelspec": {
   "display_name": "Python 3",
   "language": "python",
   "name": "python3"
  },
  "language_info": {
   "codemirror_mode": {
    "name": "ipython",
    "version": 3
   },
   "file_extension": ".py",
   "mimetype": "text/x-python",
   "name": "python",
   "nbconvert_exporter": "python",
   "pygments_lexer": "ipython3",
   "version": "3.8.7"
  }
 },
 "nbformat": 4,
 "nbformat_minor": 5
}