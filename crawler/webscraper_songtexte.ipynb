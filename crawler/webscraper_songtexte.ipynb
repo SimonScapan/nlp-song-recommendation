{
 "cells": [
  {
   "cell_type": "code",
   "execution_count": 1,
   "id": "practical-vitamin",
   "metadata": {},
   "outputs": [],
   "source": [
    "from bs4 import BeautifulSoup\n",
    "import requests\n",
    "import time\n",
    "import csv\n",
    "import random"
   ]
  },
  {
   "cell_type": "markdown",
   "id": "seventh-motorcycle",
   "metadata": {},
   "source": [
    "# Website"
   ]
  },
  {
   "cell_type": "code",
   "execution_count": 2,
   "id": "integral-harvard",
   "metadata": {},
   "outputs": [],
   "source": [
    "website = \"https://www.songtexte.de/musiker.html?seite=\""
   ]
  },
  {
   "cell_type": "code",
   "execution_count": 3,
   "id": "herbal-botswana",
   "metadata": {},
   "outputs": [],
   "source": [
    "weblist = []\n",
    "for x in range(1,3):\n",
    "    weblist.append(website+str(x))"
   ]
  },
  {
   "cell_type": "code",
   "execution_count": 4,
   "id": "express-merit",
   "metadata": {},
   "outputs": [],
   "source": [
    "# Dict bestehend aus {Seitenzahl:{Künstler:[link],...}...}"
   ]
  },
  {
   "cell_type": "code",
   "execution_count": 5,
   "id": "plain-female",
   "metadata": {},
   "outputs": [],
   "source": [
    "songdict = {}\n",
    "counter = 1\n",
    "for url in weblist:\n",
    "    songdict.update({counter:{}})\n",
    "    page = requests.get(url)\n",
    "    soup = BeautifulSoup(page.content, 'html.parser')\n",
    "    mydivs = soup.find_all(\"div\", {\"class\": \"cover\"})\n",
    "    for c in range(len(mydivs)):\n",
    "        tag = mydivs[c].a.attrs\n",
    "        link = tag[\"href\"]\n",
    "        artist = tag[\"title\"][:-34]\n",
    "        songdict[counter].update({artist:link})\n",
    "    counter += 1\n",
    "    time.sleep(random.random()*1+1)"
   ]
  },
  {
   "cell_type": "code",
   "execution_count": 6,
   "id": "final-engine",
   "metadata": {},
   "outputs": [],
   "source": [
    "# Dict bestehend aus {{Künstler:{Liedname:[Liedurl]},...}...}"
   ]
  },
  {
   "cell_type": "code",
   "execution_count": 7,
   "id": "informative-press",
   "metadata": {},
   "outputs": [],
   "source": [
    "artistdict = {}\n",
    "counter = 0\n",
    "fail = {}\n",
    "\n",
    "for element in range(1,len(songdict.keys())+1): #Für jede Seite\n",
    "    for artist in songdict[element].keys(): #Für jeden Künstler\n",
    "        counter += 1\n",
    "        songs = {}\n",
    "        url = songdict[element][artist]\n",
    "        page = requests.get(url)\n",
    "        soup = BeautifulSoup(page.content, 'html.parser')\n",
    "        try:\n",
    "            mydivs = soup.find_all(\"div\", {\"class\": \"album-content col-sm-9\"})[0]\n",
    "            mydivs = mydivs.find(\"ul\")\n",
    "            tags = mydivs.find_all(\"a\")\n",
    "            #print(len(tags))\n",
    "            for c in range(len(tags)): #Für jeden Song des Künstlers\n",
    "                song = tags[c][\"title\"][len(artist)+3:-9]\n",
    "                link = tags[c][\"href\"]\n",
    "                songs.update({song:[link]})\n",
    "                artistdict.update({artist:songs})\n",
    "            #print(counter, artist, \"erfolgreich\")\n",
    "        except:\n",
    "            fail.update({artist:mydivs})\n",
    "            print(counter, artist, \"fehlgeschlagen Link:\", songdict[element][artist])\n",
    "\n",
    "        counter += 1\n",
    "        time.sleep(random.random()*1+1)"
   ]
  },
  {
   "cell_type": "code",
   "execution_count": 8,
   "id": "serial-visiting",
   "metadata": {},
   "outputs": [],
   "source": [
    "# Dict bestehend aus {{Künstler:{Liedname:[Liedurl,Lyriks],...}...}"
   ]
  },
  {
   "cell_type": "code",
   "execution_count": 11,
   "id": "divided-horse",
   "metadata": {},
   "outputs": [],
   "source": [
    "backup_artistdict = artistdict.copy()"
   ]
  },
  {
   "cell_type": "code",
   "execution_count": 12,
   "id": "defensive-combining",
   "metadata": {},
   "outputs": [
    {
     "name": "stdout",
     "output_type": "stream",
     "text": [
      "Fehler bei Kygo  //twitter.com/share?url=https%3A%2F%2Fwww.songtexte.de%2Fmusiker%2Fkygo-2088817.html\n",
      "Fehler bei Kygo ebo //www.facebook.com/sharer.php?u=https%3A%2F%2Fwww.songtexte.de%2Fmusiker%2Fkygo-2088817.html\n",
      "Fehler bei Kygo tsA whatsapp://send?text=https%3A%2F%2Fwww.songtexte.de%2Fmusiker%2Fkygo-2088817.html\n",
      "Fehler bei Sam Martin  whatsapp://send?text=https%3A%2F%2Fwww.songtexte.de%2Fmusiker%2Fsam-martin-2288925.html\n",
      "Fehler bei Conrad  //twitter.com/share?url=https%3A%2F%2Fwww.songtexte.de%2Fmusiker%2Fconrad-223752.html\n",
      "Fehler bei Conrad o //www.facebook.com/sharer.php?u=https%3A%2F%2Fwww.songtexte.de%2Fmusiker%2Fconrad-223752.html\n",
      "Fehler bei Conrad A whatsapp://send?text=https%3A%2F%2Fwww.songtexte.de%2Fmusiker%2Fconrad-223752.html\n",
      "Fehler bei Lookas  //twitter.com/share?url=https%3A%2F%2Fwww.songtexte.de%2Fmusiker%2Flookas-2188874.html\n",
      "Fehler bei Lookas o //www.facebook.com/sharer.php?u=https%3A%2F%2Fwww.songtexte.de%2Fmusiker%2Flookas-2188874.html\n",
      "Fehler bei Lookas A whatsapp://send?text=https%3A%2F%2Fwww.songtexte.de%2Fmusiker%2Flookas-2188874.html\n"
     ]
    }
   ],
   "source": [
    "counter = 0\n",
    "for artist in artistdict.keys():\n",
    "    for song in artistdict[artist]:\n",
    "        counter +=1\n",
    "        try:\n",
    "            url = artistdict[artist][song][0]\n",
    "            page = requests.get(url)\n",
    "            soup = BeautifulSoup(page.content, 'html.parser')\n",
    "            mydivs = soup.find_all(\"div\", {\"class\": \"album-content col-sm-9 col-xs-12\"})\n",
    "            tag = mydivs[0].find_all(\"p\")[1]\n",
    "            song_text = str(tag)[23:-22].replace(\"<br>\",\"\").replace(\"<br/>\",\"\")\n",
    "            artistdict[artist][song].append(song_text)\n",
    "        except:\n",
    "            print(\"Fehler bei\", artist, song, url)\n",
    "        if counter%500 == 0:\n",
    "            print(counter,\"Lieder heruntergeladen\")\n",
    "        time.sleep(random.random()*1+1)"
   ]
  },
  {
   "cell_type": "code",
   "execution_count": 38,
   "id": "veterinary-terrace",
   "metadata": {},
   "outputs": [
    {
     "data": {
      "text/plain": [
       "\"When your looks don't work like they used to before  And I can't sweep you off of your feet  Will your mouth still remember the taste of my love  Will your eyes still smile from your cheeks   And darling I will be loving you 'til we're 70  And baby my heart could still fall as hard at 23  And I'm thinking 'bout how people fall in love in mysterious ways  Maybe just the touch of a hand  Oh me I fall in love with you every single day  And I just wanna tell you I am   So honey now  Take me into your loving arms  Kiss me under the light of a thousand stars  Place your head on my beating heart  I'm thinking out loud  Maybe we found love right where we are   When my hair's all but gone and my memory fades  And the crowds don't remember my name  When my hands don't play the strings the same way, mm  I know you will still love me the same   'Cause honey your soul can never grow old, it's evergreen  Baby your smile's forever in my mind and memory   I'm thinking 'bout how people fall in love in mysterious ways  Maybe it's all part of a plan  I'll just keep on making the same mistakes  Hoping that you'll understand   But baby now  Take me into your loving arms  Kiss me under the light of a thousand stars  Place your head on my beating heart  I'm thinking out loud  That maybe we found love right where we are, oh   (Ah la la, la la la, la la la, la la la la)   So baby now  Take me into your loving arms  Kiss me under the light of a thousand stars  Oh darling, place your head on my beating heart  I'm thinking out loud  That maybe we found love right where we are   Oh maybe we found love right where we are  And we found love right where we are\""
      ]
     },
     "execution_count": 38,
     "metadata": {},
     "output_type": "execute_result"
    }
   ],
   "source": [
    "artistdict[\"Ed Sheeran\"]['Thinking Out Loud'][1]"
   ]
  },
  {
   "cell_type": "code",
   "execution_count": 17,
   "id": "cooperative-error",
   "metadata": {},
   "outputs": [],
   "source": [
    "def GetGenreByTitle(artist,title):\n",
    "\n",
    "    url = \"https://www.google.com/search?q=\"\n",
    "    headers = {'User-agent':\"Mozilla/5.0 (Windows NT 10.0; Win64; x64) AppleWebKit/537.36 (KHTML, like Gecko) Chrome/64.0.3282.140 Safari/537.36 Edge/17.17134\"}\n",
    "    \n",
    "    artist = artist.lower()\n",
    "    artist = artist.replace(\" \",\"+\")\n",
    "    title = title.lower()\n",
    "    title = title.replace(\" \",\"+\")\n",
    "    \n",
    "    search = url+artist+\"+\"+title+\"+genre\"\n",
    "    try:\n",
    "        page = requests.get(search,headers=headers)\n",
    "        soup = BeautifulSoup(page.content, 'html.parser')\n",
    "    \n",
    "        mydivs = soup.find_all(\"div\", {\"class\":\"Z0LcW XcVN5d\"})\n",
    "\n",
    "        if len(mydivs) == 1:\n",
    "            genre = [str(mydivs)[27:-7]]\n",
    "        else:\n",
    "            mydivs = soup.find_all(\"div\", {\"class\":\"rlc__slider-page\"})\n",
    "            genre = []\n",
    "            for element in range(len(mydivs)):\n",
    "                genre_title = mydivs[element].find(\"div\", {\"class\":\"title\"})\n",
    "                genre_title = str(genre_title)[19:-6]\n",
    "                genre.append(genre_title)\n",
    "    except:\n",
    "        genre = \"Search for Genre failed\"\n",
    "    time.sleep(0.5)\n",
    "    return genre"
   ]
  },
  {
   "cell_type": "code",
   "execution_count": 34,
   "id": "entitled-drink",
   "metadata": {},
   "outputs": [
    {
     "name": "stdout",
     "output_type": "stream",
     "text": [
      "csv fehlgeschlagen ['The Weeknd', 'Often', '[Produced by Ben Billions]  [Intro] \"Seneler sürer her günüm\" Ooh yeah, ooh yeah, ooh yeah, ooh yeah, ooh yeah \"Yalnız gitmekten yorgunum\" Ooh yeah, ooh yeah, ooh yeah, ooh yeah \"Seneler sürer her günüm\" Ooh yeah, ooh yeah, ooh yeah, ooh yeah, ooh yeah \"Yalnız gitmekten yorgunum\" Ooh yeah, ooh yeah, ooh yeah, ooh yeah, ooh yeah  [Verse 1] I usually love sleeping all alone This time around bring your friend with you But we ain\\'t really going to sleep at all You ain\\'t gonna catch me with them sneak pictures In my city I\\'m a young god That pussy kill be so vicious My god white, he in my pocket He get me redder than the devil \\'til I go nauseous  [Hook] She asked me if I do this every day, I said \"Often\" Asked how many times she rode the wave, \"Not so often\" Bitches down to do it either way, often Baby I can make that pussy rain, often Often, often, girl I do this often Make that pussy pop and do it how I want it Often, often, girl I do this often Make that pussy pop and do it how I want it Often  [Verse 2] Infatuated by the fame status She wanna ride inside the G-Class grey \\'matic I come around, she leave that nigga like he ain\\'t matter That girl been drinkin\\' all day, need to change bladder She\\'s just happy that the crew\\'s back in town She \\'bout to go downtown for a whole hour If I had her, you can have her, man it don\\'t matter I\\'m never sour, I\\'m just smokin\\' somethin\\' much louder  [Hook] She asked me if I do this every day, I said \"Often\" Asked how many times she rode the wave, \"Not so often\" Bitches down to do it either way, often Baby I can make that pussy rain, often Often, often, girl I do this often Make that pussy pop and do it how I want it Often, often, girl I do this often Make that pussy pop and do it how I want it Often  [Bridge] Oooh, the sun\\'s risin\\' up The night\\'s almost up The night\\'s almost done But I see your eyes You wanna go again Girl, I\\'ll go again Girl, I\\'ll go again  [Hook] She asked me if I do this every day, I said \"Often\" Asked how many times she rode the wave, \"Not so often\" Bitches down to do it either way, often Baby I can make that pussy rain, often Often, often, girl I do this often Make that pussy pop and do it how I want it Often, often, girl I do this often Make that pussy pop and do it how I want it Often  [Outro] \"Seneler sürer her günüm\" Ooh yeah, ooh yeah, ooh yeah, ooh yeah, ooh yeah \"Yalnız gitmekten yorgunum\" Ooh yeah, ooh yeah, ooh yeah, ooh yeah \"Seneler sürer her günüm\" Ooh yeah, ooh yeah, ooh yeah, ooh yeah, ooh yeah \"Yalnız gitmekten yorgunum\" Ooh yeah, ooh yeah, ooh yeah, ooh yeah', 0, 'https://www.songtexte.de/songtexte/the-weeknd-often-23383326.html']\n",
      "\n",
      "\n",
      "csv fehlgeschlagen ['Fall Out Boy', 'American Beauty/American Psycho', \"She's an American beauty  I'm an American psycho  She's an American beauty  I'm an American, I'm an American  American Psycho  I'm an American, I'm an American  I'm, I'm, I'm an American psycho   I think I fell in love again  Maybe I just took too much cough medicine  I'm the best worst thing that hasn't happened to you yet  The best worst thing  You take the full, full truth, then you pour some out  You take the full, full truth, then you pour some out  And you can kill me, kill me or let God sort '\\x80\\x98em out  Kill me, kill me or   She's an American beauty  I'm an American psycho  She's an American beauty  I'm an American, I'm an American  American Psycho  I'm an American, I'm an American  I'm, I'm, I'm an American psycho   I'm an American, I'm an American  I'm, I'm, I'm an American psycho   I wish I dreamt in the shape of your mouth  But it's your thread count I really care about  Stay up 'til the lights go out  Stay up, Stay up  You take the full, full truth, then you pour some out  You take the full, full truth, then you pour some out  And as we're drifting off to sleep  All those dirty thoughts of me  They were never yours to keep   Altered boys, altered boys  We're the things that love destroyed  (I'm an American, I'm an American)  You, me, us, them  We're just resurrection men  (I'm an American, I'm an American)  Us, we were only there, to make you live again  (I'm an American, I'm an American)  Us, we were pity sex, nothing more and nothing less  (I'm an American)   She's an American beauty  I'm an American psycho  She's an American beauty  I'm an American, I'm an American  American Psycho  I'm an American, I'm an American  I'm, I'm, I'm an American psycho   I'm an American,\\xa0I'm an American,\\xa0I'm an American psycho  I'm an American, I'm an American  I'm, I'm, I'm an American psycho\", 0, 'https://www.songtexte.de/songtexte/fall-out-boy-american-beauty-american-psycho-6293662.html']\n",
      "\n",
      "\n",
      "csv fehlgeschlagen ['5 Seconds Of Summer', 'Amnesia', \"[Verse 1] I drove by all the places We used to hang out getting wasted I thought about our last kiss How it felt, the way it tasted And even though your friends tell me you're doing fine Are you somewhere feeling lonely Even though he’s right beside you  When he says those words that hurt you Do you read the ones I wrote you? Sometimes I start to wonder, was it just a lie? If what we had was real, how could you be fine? Cause I'm not fine at all   [Chorus] I remember the day you told me you were leaving I remember the make-up running down your face And the dreams you left behind you didn't need them Like every single wish we ever made  I wish that I could wake up with amnesia And forget about the stupid little things Like the way it felt to fall asleep next to you And the memories I never can escape Cause I'm not fine at all  [Verse 2] The pictures that you sent me They're still living in my phone I admit I like to see them I'll admit I feel alone And all my friends keep asking Why I'm not around It hurts to know you’re happy Yeah it hurts that you moved on  It’s hard to hear your name When I haven't seen you in so long It’s like we never happened Was it just a lie? If what we had was real How could you be fine\\u2028? Cause I'm not fine at all  [Chorus] I remember the day you told me you were leaving I remember the make-up running down your face And the dreams you left behind you didn't need them Like every single wish we ever made I wish that I could wake up with amnesia And forget about the stupid little things Like the way it felt to fall asleep next to you And the memories I never can escape  [Bridge] If today I woke up with you right beside me Like all of this was just some twisted dream I'd hold you closer than I ever did before And you'd never slip away And you'd never hear me say  [Chorus] I remember the day you told me you were leaving I remember the make-up running down your face And the dreams you left behind you didn't need them Like every single wish we ever made I wish that I could wake up with amnesia And forget about the stupid little things Like the way it felt to fall asleep next to you And the memories I never can escape  [Outro] Cause I'm not fine at all No I'm really not fine at all Tell me this is just a dream Cause I'm really not fine at all\", 0, 'https://www.songtexte.de/songtexte/5-seconds-of-summer-amnesia-5453246.html']\n",
      "\n",
      "\n",
      "csv fehlgeschlagen ['Jack Johnson', 'Never Fade', 'It feels good to be the one, that you want When all I want is you  It feels good to be the one, that you want When all I want is you  When I first saw you come across the room And then you saw me, then I knew what to do I tried to play it cool and attached no strings But by the end oft he day, I needed the whole thing  It feels good tob e the one, that you want When all I want is you  It feels good to be the one, that you want When all I want is you  You see I knew right then, that this could last so long I went home that night, I wrote my first lovesong And as the days went by, I knew I had it made Well you could try to pretend, your smile gave it away  It feels good tob e the one, that you want When all I want is you  And It feels good tob e the one, that you want When all I want is you  And now here we are, how could we ever know I knew I loved you then and I\\x91ve watched you grow So it came to be, that I raised you and you raised me We\\x92re lucky that way, \\x91cause our love can never fade  No our love can never fade yeah Our love will never fade yeah Our love can never fade yey  It feels good to be the one that you want, When all I want is you, can never fade yey (2x)  When all I want is you, can never fade All I want is you, can never fade  When all I want is you\\x85', 0, 'https://www.songtexte.de/songtexte/jack-johnson-never-fade-12299953.html']\n",
      "\n",
      "\n",
      "csv fehlgeschlagen ['Jack Johnson', 'Washing Dishes', \"In the morning when the world came awake Before you knew me I knew your name It was painted across the day as it breaks An impression in your window frame  When you saw me out your window Singing from the garden Only the beginning I'm only getting started I don't mind the digging Baby, I'll work harder I've been washing dishes Singing from the bottom  But one day I'll be running this place And one day I could take you away But I want you to wonder what's my name Because I need you to want me the same  When you saw me washing dishes Singing from the bottom Only the beginning I'm only getting started I don't mind the digging Baby, I'll work harder I've been in the ashes Singing from the garden  Where everything reaches for the sun Still unsure of what we'll become But I need you to reach out to me See in me more than I could see Because I'm afraid that  One day is only two words we say I don't want to let them get in the way Of all the plans that we should be making right now Right now  Who took the time and where did they take it I want to take it back I don\\x92t want them to break it All these plans that we should be making right now Right now  You see one day I'll be running this place And one day I could take you away But I want you to wonder what's my name Because I need you to want me the same  When you saw me out your window Singing from the bottom Only the beginning I'm only getting started I don't mind the digging Baby, I'll work harder I've been washing dishes Singing from the bottom  One day is only two words we say I don't want to let them get in the way Of all the plans that we should be making right now Right now  Who took the time and where did they take it I want to take it back I don\\x92t want them to break it All these plans that we should be making right now\", 0, 'https://www.songtexte.de/songtexte/jack-johnson-washing-dishes-12299951.html']\n",
      "\n",
      "\n",
      "csv fehlgeschlagen ['Skrillex', 'Dirty Vibe', \"Dirty vibe, dirty vibe, d-d-dirty-dirty vibe  Dirty vibe, dirty vibe, d-d-d-d-dirty vibe  Dirty vibe, dirty vibe, d-d-dirty-dirty vibe  Dirty vibe, dirty vibe, d-d-d-d-dirty vibe   얘 이름은 용이지  화나면 불이 나   웬만하면 call me G  I got the dirty vibe  You ain't certified  You got the funny vibe  내가 세상을 흔들면 넌   멀미 나   그래 더럽게   We gon' celebrate  Every fuckin' day  나를 따라해   그래 더럽게  그래 더럽게   더 더럽게   Dirty vibe   Jump on that  Jump on that  Jump on that  Jump, jump, jump on that  Jump on that  Jump on that  Jump, jump, jump, jump on that dirty vibe   (Dirty vibe)   Jump on that  Jump on that  Jump on that  Jump, jump, jump on that  Jump on that  Jump on that  Jump, jump, jump, jump on that dirty vibe   (Dirty vibe)   Seoul city  GZB  C L  Hold up, you in the presence of a queen  Ow, turn up  All the pretty bitches love me  언니  Mouth full of gold with them Jerry curls  Stuntin' in some Prince shit  Diamonds and pearls  I'll be on my worst behavior  Hold my purse  Runways and strip clubs  I'll be making it work  'Cause, I'll be 01 'til I die  Middle finger up so high  Dirty vibe, dirty vibe  Jump on that (dirty vibe)   I don't pop molly I rock microphones  Point it at you girl, watch her ass sing along   Talk shit with the prettiest lips  Blow a kiss  Kick a hole in your speaker, and then split   Do it just for fun  I come second to none  Swervin' in the Lambo' like a son of a gun   What you ain't you ain't know  I'm yo girl's lesbian crush  She ain't with you she be rollin' my (dirty vibe)   G to the D motherfucker  Who am I?  내가 서울이다 motherfucker  But divin' on C-momma  It's the beat on the come up  Get it, huh  넌 그냥 이거나 먹어    평소엔 젠틀한 어른처럼   But mic 만 주면 얼음처럼   모두를 얼려 마치 그게 버릇처럼   더럽게 즐겨봐 다시 처음처럼   (Dirty vibe) G-Duh from the feet up  I'm as dirty as they could and there's only one   (Dirty vibe)\", 0, 'https://www.songtexte.de/songtexte/skrillex-dirty-vibe-22870530.html']\n",
      "\n",
      "\n"
     ]
    }
   ],
   "source": [
    "#CSV-Datei erstellen\n",
    "header = [\"Artist\",\"Song_title\",\"Song_text\",\"Song_genre\",\"Song_link\"]\n",
    "\n",
    "with open(\"tracks_001_050.csv\", 'w',newline='') as myfile:\n",
    "    wr = csv.writer(myfile, quoting=csv.QUOTE_ALL)\n",
    "    wr.writerow(header)\n",
    "\n",
    "with open(\"tracks_001_050.csv\", 'a',newline='') as myfile:\n",
    "    wr = csv.writer(myfile, quoting=csv.QUOTE_ALL)    \n",
    "    for artist in artistdict.keys():\n",
    "        for song in artistdict[artist]:\n",
    "            if len(artistdict[artist][song]) == 2:\n",
    "                artistdict[artist][song][1] = artistdict[artist][song][1].replace(\"\\n\",\" \").replace(\"\\r\",\" \")\n",
    "                artistdict[artist][song][1] = artistdict[artist][song][1].replace(\"&\", \"and\")\n",
    "                #genre = GetGenreByTitle(artist,song)\n",
    "                genre = 0\n",
    "                try:\n",
    "                    wr.writerow([artist,song,artistdict[artist][song][1],genre,artistdict[artist][song][0]])\n",
    "                except:\n",
    "                    print(\"csv fehlgeschlagen\",[artist,song,artistdict[artist][song][1],genre,artistdict[artist][song][0]])\n",
    "                    print(\"\\n\")\n"
   ]
  },
  {
   "cell_type": "code",
   "execution_count": null,
   "id": "better-comedy",
   "metadata": {},
   "outputs": [],
   "source": []
  },
  {
   "cell_type": "code",
   "execution_count": null,
   "id": "acquired-defeat",
   "metadata": {},
   "outputs": [],
   "source": [
    "writer = csv.writer(open(\"songs.csv\", \"w\"))\n",
    "writer.writerow(header)\n",
    "writer.writerows(body)"
   ]
  },
  {
   "cell_type": "code",
   "execution_count": 29,
   "id": "starting-prague",
   "metadata": {},
   "outputs": [
    {
     "ename": "UnicodeEncodeError",
     "evalue": "'charmap' codec can't encode character '\\u0131' in position 141: character maps to <undefined>",
     "output_type": "error",
     "traceback": [
      "\u001b[1;31m---------------------------------------------------------------------------\u001b[0m",
      "\u001b[1;31mUnicodeEncodeError\u001b[0m                        Traceback (most recent call last)",
      "\u001b[1;32m<ipython-input-29-024137290c53>\u001b[0m in \u001b[0;36m<module>\u001b[1;34m\u001b[0m\n\u001b[0;32m      2\u001b[0m     \u001b[0mwr\u001b[0m \u001b[1;33m=\u001b[0m \u001b[0mcsv\u001b[0m\u001b[1;33m.\u001b[0m\u001b[0mwriter\u001b[0m\u001b[1;33m(\u001b[0m\u001b[0mmyfile\u001b[0m\u001b[1;33m,\u001b[0m \u001b[0mquoting\u001b[0m\u001b[1;33m=\u001b[0m\u001b[0mcsv\u001b[0m\u001b[1;33m.\u001b[0m\u001b[0mQUOTE_ALL\u001b[0m\u001b[1;33m)\u001b[0m\u001b[1;33m\u001b[0m\u001b[1;33m\u001b[0m\u001b[0m\n\u001b[0;32m      3\u001b[0m     \u001b[0mwr\u001b[0m\u001b[1;33m.\u001b[0m\u001b[0mwriterow\u001b[0m\u001b[1;33m(\u001b[0m\u001b[0mheader\u001b[0m\u001b[1;33m)\u001b[0m\u001b[1;33m\u001b[0m\u001b[1;33m\u001b[0m\u001b[0m\n\u001b[1;32m----> 4\u001b[1;33m     \u001b[0mwr\u001b[0m\u001b[1;33m.\u001b[0m\u001b[0mwriterows\u001b[0m\u001b[1;33m(\u001b[0m\u001b[0mbody\u001b[0m\u001b[1;33m)\u001b[0m\u001b[1;33m\u001b[0m\u001b[1;33m\u001b[0m\u001b[0m\n\u001b[0m",
      "\u001b[1;32mc:\\users\\nikla\\appdata\\local\\programs\\python\\python38\\lib\\encodings\\cp1252.py\u001b[0m in \u001b[0;36mencode\u001b[1;34m(self, input, final)\u001b[0m\n\u001b[0;32m     17\u001b[0m \u001b[1;32mclass\u001b[0m \u001b[0mIncrementalEncoder\u001b[0m\u001b[1;33m(\u001b[0m\u001b[0mcodecs\u001b[0m\u001b[1;33m.\u001b[0m\u001b[0mIncrementalEncoder\u001b[0m\u001b[1;33m)\u001b[0m\u001b[1;33m:\u001b[0m\u001b[1;33m\u001b[0m\u001b[1;33m\u001b[0m\u001b[0m\n\u001b[0;32m     18\u001b[0m     \u001b[1;32mdef\u001b[0m \u001b[0mencode\u001b[0m\u001b[1;33m(\u001b[0m\u001b[0mself\u001b[0m\u001b[1;33m,\u001b[0m \u001b[0minput\u001b[0m\u001b[1;33m,\u001b[0m \u001b[0mfinal\u001b[0m\u001b[1;33m=\u001b[0m\u001b[1;32mFalse\u001b[0m\u001b[1;33m)\u001b[0m\u001b[1;33m:\u001b[0m\u001b[1;33m\u001b[0m\u001b[1;33m\u001b[0m\u001b[0m\n\u001b[1;32m---> 19\u001b[1;33m         \u001b[1;32mreturn\u001b[0m \u001b[0mcodecs\u001b[0m\u001b[1;33m.\u001b[0m\u001b[0mcharmap_encode\u001b[0m\u001b[1;33m(\u001b[0m\u001b[0minput\u001b[0m\u001b[1;33m,\u001b[0m\u001b[0mself\u001b[0m\u001b[1;33m.\u001b[0m\u001b[0merrors\u001b[0m\u001b[1;33m,\u001b[0m\u001b[0mencoding_table\u001b[0m\u001b[1;33m)\u001b[0m\u001b[1;33m[\u001b[0m\u001b[1;36m0\u001b[0m\u001b[1;33m]\u001b[0m\u001b[1;33m\u001b[0m\u001b[1;33m\u001b[0m\u001b[0m\n\u001b[0m\u001b[0;32m     20\u001b[0m \u001b[1;33m\u001b[0m\u001b[0m\n\u001b[0;32m     21\u001b[0m \u001b[1;32mclass\u001b[0m \u001b[0mIncrementalDecoder\u001b[0m\u001b[1;33m(\u001b[0m\u001b[0mcodecs\u001b[0m\u001b[1;33m.\u001b[0m\u001b[0mIncrementalDecoder\u001b[0m\u001b[1;33m)\u001b[0m\u001b[1;33m:\u001b[0m\u001b[1;33m\u001b[0m\u001b[1;33m\u001b[0m\u001b[0m\n",
      "\u001b[1;31mUnicodeEncodeError\u001b[0m: 'charmap' codec can't encode character '\\u0131' in position 141: character maps to <undefined>"
     ]
    }
   ],
   "source": [
    "with open(\"tracks_001_050.csv\", 'a',newline='') as myfile:\n",
    "    wr = csv.writer(myfile, quoting=csv.QUOTE_ALL)\n",
    "    wr.writerow(header)\n",
    "    wr.writerows(body)"
   ]
  },
  {
   "cell_type": "code",
   "execution_count": null,
   "id": "heard-potential",
   "metadata": {},
   "outputs": [],
   "source": []
  }
 ],
 "metadata": {
  "kernelspec": {
   "display_name": "Python 3",
   "language": "python",
   "name": "python3"
  },
  "language_info": {
   "codemirror_mode": {
    "name": "ipython",
    "version": 3
   },
   "file_extension": ".py",
   "mimetype": "text/x-python",
   "name": "python",
   "nbconvert_exporter": "python",
   "pygments_lexer": "ipython3",
   "version": "3.8.7"
  }
 },
 "nbformat": 4,
 "nbformat_minor": 5
}
