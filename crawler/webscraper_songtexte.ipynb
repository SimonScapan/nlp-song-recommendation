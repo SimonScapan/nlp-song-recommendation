{
 "cells": [
  {
   "cell_type": "code",
   "execution_count": 1,
   "id": "practical-vitamin",
   "metadata": {},
   "outputs": [],
   "source": [
    "from bs4 import BeautifulSoup\n",
    "import requests\n",
    "import time\n",
    "import pickle\n",
    "import random\n",
    "import pandas as ps"
   ]
  },
  {
   "cell_type": "code",
   "execution_count": null,
   "id": "fitting-constitutional",
   "metadata": {},
   "outputs": [],
   "source": [
    "def GetGenreByTitle(artist,title):\n",
    "\n",
    "    url = \"https://www.google.com/search?q=\"\n",
    "    headers = {'User-agent':\"Mozilla/5.0 (Windows NT 10.0; Win64; x64) AppleWebKit/537.36 (KHTML, like Gecko) Chrome/64.0.3282.140 Safari/537.36 Edge/17.17134\"}\n",
    "    \n",
    "    artist = artist.lower()\n",
    "    artist = artist.replace(\" \",\"+\")\n",
    "    title = title.lower()\n",
    "    title = title.replace(\" \",\"+\")\n",
    "    \n",
    "    search = url+title+\"+\"+artist+\"+genre\"\n",
    "    try:\n",
    "        page = requests.get(search,headers=headers)\n",
    "        soup = BeautifulSoup(page.content, 'html.parser')\n",
    "    \n",
    "        mydivs = soup.find_all(\"div\", {\"class\":\"Z0LcW XcVN5d\"})\n",
    "\n",
    "        if len(mydivs) == 1:\n",
    "            genre = [str(mydivs)[27:-7]]\n",
    "        else:\n",
    "            mydivs = soup.find_all(\"div\", {\"class\":\"rlc__slider-page\"})\n",
    "            genre = []\n",
    "            for element in range(len(mydivs)):\n",
    "                genre_title = mydivs[element].find(\"div\", {\"class\":\"title\"})\n",
    "                genre_title = str(genre_title)[19:-6]\n",
    "                genre.append(genre_title)\n",
    "    except:\n",
    "        genre = \"Search for Genre failed\"\n",
    "    time.sleep(1)\n",
    "    return genre"
   ]
  },
  {
   "cell_type": "code",
   "execution_count": null,
   "id": "trying-stuart",
   "metadata": {},
   "outputs": [],
   "source": [
    "tracks_df = ps.DataFrame(columns = [\"Artist\",\"Song_title\",\"Song_text\",\"Song_genre\"])"
   ]
  },
  {
   "cell_type": "markdown",
   "id": "seventh-motorcycle",
   "metadata": {},
   "source": [
    "# Website"
   ]
  },
  {
   "cell_type": "code",
   "execution_count": 2,
   "id": "integral-harvard",
   "metadata": {},
   "outputs": [],
   "source": [
    "website = \"https://www.songtexte.de/musiker.html?seite=\""
   ]
  },
  {
   "cell_type": "code",
   "execution_count": 3,
   "id": "herbal-botswana",
   "metadata": {},
   "outputs": [],
   "source": [
    "weblist = []\n",
    "for x in range(1,51):\n",
    "    weblist.append(website+str(x))"
   ]
  },
  {
   "cell_type": "code",
   "execution_count": 4,
   "id": "express-merit",
   "metadata": {},
   "outputs": [],
   "source": [
    "# Dict bestehend aus {Seitenzahl:{Künstler:[link],...}...}"
   ]
  },
  {
   "cell_type": "code",
   "execution_count": 5,
   "id": "plain-female",
   "metadata": {},
   "outputs": [
    {
     "ename": "KeyboardInterrupt",
     "evalue": "",
     "output_type": "error",
     "traceback": [
      "\u001b[1;31m---------------------------------------------------------------------------\u001b[0m",
      "\u001b[1;31mKeyboardInterrupt\u001b[0m                         Traceback (most recent call last)",
      "\u001b[1;32m<ipython-input-5-5fb6179a0c27>\u001b[0m in \u001b[0;36m<module>\u001b[1;34m\u001b[0m\n\u001b[0;32m     12\u001b[0m         \u001b[0msongdict\u001b[0m\u001b[1;33m[\u001b[0m\u001b[0mcounter\u001b[0m\u001b[1;33m]\u001b[0m\u001b[1;33m.\u001b[0m\u001b[0mupdate\u001b[0m\u001b[1;33m(\u001b[0m\u001b[1;33m{\u001b[0m\u001b[0martist\u001b[0m\u001b[1;33m:\u001b[0m\u001b[0mlink\u001b[0m\u001b[1;33m}\u001b[0m\u001b[1;33m)\u001b[0m\u001b[1;33m\u001b[0m\u001b[1;33m\u001b[0m\u001b[0m\n\u001b[0;32m     13\u001b[0m     \u001b[0mcounter\u001b[0m \u001b[1;33m+=\u001b[0m \u001b[1;36m1\u001b[0m\u001b[1;33m\u001b[0m\u001b[1;33m\u001b[0m\u001b[0m\n\u001b[1;32m---> 14\u001b[1;33m     \u001b[0mtime\u001b[0m\u001b[1;33m.\u001b[0m\u001b[0msleep\u001b[0m\u001b[1;33m(\u001b[0m\u001b[0mrandom\u001b[0m\u001b[1;33m.\u001b[0m\u001b[0mrandom\u001b[0m\u001b[1;33m(\u001b[0m\u001b[1;33m)\u001b[0m\u001b[1;33m*\u001b[0m\u001b[1;36m1\u001b[0m\u001b[1;33m+\u001b[0m\u001b[1;36m1\u001b[0m\u001b[1;33m)\u001b[0m\u001b[1;33m\u001b[0m\u001b[1;33m\u001b[0m\u001b[0m\n\u001b[0m",
      "\u001b[1;31mKeyboardInterrupt\u001b[0m: "
     ]
    }
   ],
   "source": [
    "songdict = {}\n",
    "counter = 1\n",
    "for url in weblist:\n",
    "    songdict.update({counter:{}})\n",
    "    page = requests.get(url)\n",
    "    soup = BeautifulSoup(page.content, 'html.parser')\n",
    "    mydivs = soup.find_all(\"div\", {\"class\": \"cover\"})\n",
    "    for c in range(len(mydivs)):\n",
    "        tag = mydivs[c].a.attrs\n",
    "        link = tag[\"href\"]\n",
    "        artist = tag[\"title\"][:-34]\n",
    "        songdict[counter].update({artist:link})\n",
    "    counter += 1\n",
    "    time.sleep(random.random()*1+1)"
   ]
  },
  {
   "cell_type": "code",
   "execution_count": null,
   "id": "final-engine",
   "metadata": {},
   "outputs": [],
   "source": [
    "# Dict bestehend aus {{Künstler:{Liedname:[Liedurl]},...}...}"
   ]
  },
  {
   "cell_type": "code",
   "execution_count": null,
   "id": "informative-press",
   "metadata": {},
   "outputs": [],
   "source": [
    "artistdict = {}\n",
    "counter = 0\n",
    "fail = {}\n",
    "\n",
    "for element in range(1,len(songdict.keys())+1): #Für jede Seite\n",
    "    for artist in songdict[element].keys(): #Für jeden Künstler\n",
    "        counter += 1\n",
    "        songs = {}\n",
    "        url = songdict[element][artist]\n",
    "        page = requests.get(url)\n",
    "        soup = BeautifulSoup(page.content, 'html.parser')\n",
    "        try:\n",
    "            mydivs = soup.find_all(\"div\", {\"class\": \"album-content col-sm-9\"})[0]\n",
    "            mydivs = mydivs.find(\"ul\")\n",
    "            tags = mydivs.find_all(\"a\")\n",
    "            #print(len(tags))\n",
    "            for c in range(len(tags)): #Für jeden Song des Künstlers\n",
    "                song = tags[c][\"title\"][len(artist)+3:-9]\n",
    "                link = tags[c][\"href\"]\n",
    "                songs.update({song:[link]})\n",
    "                artistdict.update({artist:songs})\n",
    "            #print(counter, artist, \"erfolgreich\")\n",
    "        except:\n",
    "            fail.update({artist:mydivs})\n",
    "            print(counter, artist, \"fehlgeschlagen Link:\", songdict[element][artist])\n",
    "\n",
    "        counter += 1\n",
    "        time.sleep(random.random()*1+1)"
   ]
  },
  {
   "cell_type": "code",
   "execution_count": null,
   "id": "serial-visiting",
   "metadata": {},
   "outputs": [],
   "source": [
    "# Dict bestehend aus {{Künstler:{Liedname:[Liedurl,Lyrics],...}...}"
   ]
  },
  {
   "cell_type": "code",
   "execution_count": null,
   "id": "descending-ticket",
   "metadata": {},
   "outputs": [],
   "source": [
    "counter = 0\n",
    "for artist in artistdict.keys():\n",
    "    for song in artistdict[artist]:\n",
    "        try:\n",
    "            url = artistdict[artist][song][0]\n",
    "            page = requests.get(url)\n",
    "            soup = BeautifulSoup(page.content, 'html.parser')\n",
    "            mydivs = soup.find_all(\"div\", {\"class\": \"album-content col-sm-9 col-xs-12\"})\n",
    "            tag = mydivs[0].find_all(\"p\")[1]\n",
    "            song_text = str(tag)[23:-22].replace(\"<br>\",\"\").replace(\"<br/>\",\"\")\n",
    "            #artistdict[artist][song].append(song_text)\n",
    "            genre = GetGenreByTitle(artist,song)\n",
    "            tracks_df[counter] = [artist,song,song_text,genre]             \n",
    "            counter +=1\n",
    "            time.sleep(random.random()*1+0.5)\n",
    "        except:\n",
    "            print(\"Fehler bei\", artist, song, url)\n",
    "        if counter%500 == 0:\n",
    "            print(counter,\"Lieder heruntergeladen\")\n",
    "        "
   ]
  },
  {
   "cell_type": "code",
   "execution_count": null,
   "id": "satellite-service",
   "metadata": {},
   "outputs": [],
   "source": [
    "#artistdict[\"Ed Sheeran\"]['Thinking Out Loud'][0]"
   ]
  },
  {
   "cell_type": "code",
   "execution_count": null,
   "id": "positive-lightweight",
   "metadata": {},
   "outputs": [],
   "source": [
    "# counter = 0\n",
    "# for artist in artistdict.keys():\n",
    "#     for song in artistdict[artist]:\n",
    "#         if len(artistdict[artist][song]) == 2:\n",
    "#             genre = GetGenreByTitle(artist,song)\n",
    "#             tracks_df[counter] = [artist,song,artistdict[artist][song][1],genre]\n",
    "#             counter +=1"
   ]
  },
  {
   "cell_type": "code",
   "execution_count": null,
   "id": "spatial-watts",
   "metadata": {},
   "outputs": [],
   "source": [
    "tracks_df.head()"
   ]
  },
  {
   "cell_type": "code",
   "execution_count": null,
   "id": "african-patrol",
   "metadata": {},
   "outputs": [],
   "source": [
    "output = open('tracks50.pkl', 'wb')\n",
    "pickle.dump(tracks_df, output)\n",
    "output.close()"
   ]
  }
 ],
 "metadata": {
  "kernelspec": {
   "display_name": "Python 3",
   "language": "python",
   "name": "python3"
  },
  "language_info": {
   "codemirror_mode": {
    "name": "ipython",
    "version": 3
   },
   "file_extension": ".py",
   "mimetype": "text/x-python",
   "name": "python",
   "nbconvert_exporter": "python",
   "pygments_lexer": "ipython3",
   "version": "3.8.7"
  }
 },
 "nbformat": 4,
 "nbformat_minor": 5
}
